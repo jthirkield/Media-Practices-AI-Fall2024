{
 "cells": [
  {
   "cell_type": "markdown",
   "metadata": {},
   "source": [
    "## Using Python \n",
    "Welcome to Python! Python is a programming language that is particularly powerful for dealing with multiple text documents, running statistics, and running machine learning algorithms (and much much more!). There are many libraries and extensions of Python that make it a very effective and useful language.\n",
    "\n",
    "**Books:** There are two very good books for learning python. \n",
    "\n",
    "*Introducing Python* by Bill Lubanovic is the rare good, clear introduction to the language and to programming in general.\n",
    "\n",
    "*Python Crash Course* by Eric Matthes gives you a project based introduction, I have heard good things from those who have used this book.\n",
    "\n",
    "Googling, ChatBots, and tutorials can be helpful too!"
   ]
  },
  {
   "cell_type": "markdown",
   "metadata": {},
   "source": [
    "## Using Jupyter Notebook\n",
    "This is Jupyter Notebook, we are coding in it. It is an excellent, very manageable runtime enviroment.\n",
    "\n",
    "It even allows us to use Mark Down Language in specific cells (like this one) to write text and even include images, in order to make the notebook more readable.\n",
    "\n",
    "To run cells in Jupyter you can click the menu at the top: Run>Run Selected Cell (you can even run a bunch of cells, though be VERY careful about that...). But the best way is to select a cell and press **shift+enter**"
   ]
  },
  {
   "cell_type": "markdown",
   "metadata": {},
   "source": [
    "## Some Python Basics!!\n",
    "**variables:**  A variable is a named container--it can hold a variety of data.\n",
    "\n",
    "When we make a variable in Python we just type\n",
    "\n",
    "`variable_name = \"Something\"`\n",
    "\n",
    "The `=` assigns that value to the variable name. The variable name will contain the value, which could be one of the number of data types.\n",
    "\n",
    "The primary data types include\n",
    "\n",
    "**Strings:** Any string of text/numbers/symbols. They are enclosed in either double quotes \"my string\" or single quotes 'my string'. (If your string contains quotation marks you can cancel them out using a backslash \\ like so: 'Jon\\\\'s name is Jon')\n",
    "\n",
    "Strings, like all data types have many built-in properties and methods for accessing its characters. For example len(string) gets you the number of characters in the string.\n",
    "\n",
    "**Numbers:** Numerical values such as 93, -92, 1000000000, 443.232 and so on.\n",
    "\n",
    "These can be added, subtracted, multiplied, divided using the following operators respectively:\n",
    "\n",
    "`+ - * /`\n",
    "\n",
    "\n",
    "**Binary/Boolean:** `True` and `False` are recognized as values. They are not strings, so they're not put in quotation marks.\n",
    "\n",
    "**Lists:** These are ordered lists (they are called \"arrays\" in other languages)--they can contain strings, numbers, true/false, they can even contain simple variables, arrays and more!\n",
    "\n",
    "**Dictionaries:** These are essentially unordered lists that contain key value pairs, a key, stating what kind of information is in a value of any data type. These are called objects in JavaScript\n",
    "\n",
    "\n",
    "Each of these are demoed below!!"
   ]
  },
  {
   "cell_type": "code",
   "execution_count": null,
   "metadata": {},
   "outputs": [],
   "source": [
    "name = \"Dr. Python\"\n",
    "print(name + \" is my name!\")\n",
    "number = 9\n",
    "number\n",
    "print(name + str(number)) #this is bad, and will break things"
   ]
  },
  {
   "cell_type": "code",
   "execution_count": null,
   "metadata": {},
   "outputs": [],
   "source": [
    "realName = \"Jon\"\n",
    "realName"
   ]
  },
  {
   "cell_type": "markdown",
   "metadata": {},
   "source": [
    "**strings**\n"
   ]
  },
  {
   "cell_type": "code",
   "execution_count": null,
   "metadata": {},
   "outputs": [],
   "source": [
    "mystring = \"Welcome to Python\"\n",
    "# mystring\n",
    "mystring[-2] #first character in the string\n",
    "mystring[0:9] #first 8 characters in the string\n",
    "mystring.upper() #makes it uppercase\n",
    "mystring = mystring.upper()\n",
    "mystring"
   ]
  },
  {
   "cell_type": "markdown",
   "metadata": {},
   "source": [
    "**numbers**"
   ]
  },
  {
   "cell_type": "code",
   "execution_count": null,
   "metadata": {},
   "outputs": [],
   "source": [
    "age = 26\n",
    "age + 26\n",
    "age/2\n",
    "age +=1 # adds one to the variable and the var remembers it!\n",
    "age * 40\n",
    "age = age + 1"
   ]
  },
  {
   "cell_type": "markdown",
   "metadata": {},
   "source": [
    "**boolean and conditionals**\n",
    "\n",
    "True/False values are the most basic and simple values in the computation.\n",
    "\n",
    "Relatedly, conditional structures (aka if statements) are the most basic way that computers make choices based on an evaluations of whether a statement is true or false.\n",
    "\n",
    "The `:` is a key syntatical structure, and `indents` are crutial!! If you indent incorrectly it will break.\n"
   ]
  },
  {
   "cell_type": "code",
   "execution_count": null,
   "metadata": {},
   "outputs": [],
   "source": [
    "iexist = True\n",
    "if iexist:\n",
    "    print(\"Good for you!!\")\n",
    "else:\n",
    "    print(\"That's okay too!!\")"
   ]
  },
  {
   "cell_type": "code",
   "execution_count": null,
   "metadata": {},
   "outputs": [],
   "source": [
    "#more conditionals, test values\n",
    "age = 17\n",
    "# if age >= 18:\n",
    "#     print(\"you can vote!!\")\n",
    "# else:\n",
    "#     print(\"enjoy your youth!!\")\n",
    "\n",
    "city = \"New Orleans\"\n",
    "if age >= 21:\n",
    "    print(\"you can drink alcohol...\")\n",
    "elif age >= 18 and city == \"New Orleans\":\n",
    "    print(\"you can drink alcohol...\")\n",
    "else:\n",
    "    print(\"you cannot legally drink in the US\")\n",
    "    "
   ]
  },
  {
   "cell_type": "markdown",
   "metadata": {},
   "source": [
    "**lists:** I might call these arrays from time to time, cuz that's what every other language calls them. \n",
    "\n",
    "Python likes to make names more familiar but this can cause confusion because \"list\" is very common word\n",
    "\n",
    "These are extremely important to understand, they are the backbone of all computation because you often ITERATE through lists with **loops** (see below!!)"
   ]
  },
  {
   "cell_type": "code",
   "execution_count": null,
   "metadata": {},
   "outputs": [],
   "source": [
    "cats = [\"Popcorn\",\"Summer\",\"Lightning\"]\n",
    "len(cats) #how many cats??\n",
    "cats[-1] #first cat\n",
    "#0 is always the first index number of a list, we use these numbers to get the elements in the list\n",
    "cats.append(\"Mittens\") #append() adds new elements to the end\n",
    "cats[-1] #last element in the list"
   ]
  },
  {
   "cell_type": "markdown",
   "metadata": {},
   "source": [
    "**loops** \n",
    "\n",
    "These are how you interate through multiple elements.\n",
    "\n",
    "Most often we loop through every element in a list!"
   ]
  },
  {
   "cell_type": "code",
   "execution_count": null,
   "metadata": {},
   "outputs": [],
   "source": [
    "for catName in cats:\n",
    "    print(catName)\n",
    "\n",
    "#That is the most basic loop, it is creating a loop specific variable called cat that will contain each element loop through."
   ]
  },
  {
   "cell_type": "code",
   "execution_count": null,
   "metadata": {},
   "outputs": [],
   "source": [
    "#a little more going on in this loop\n",
    "for cat in cats:\n",
    "    if cat == \"Popcorn\":\n",
    "        print(cat + \" is my favorite!\")\n",
    "    else: \n",
    "        print(cat + \" is wonderful!\")\n",
    "#NOTE: indents are extremely important in python. They have to be perfect\n",
    "#Juypter will try to automatically indent for you"
   ]
  },
  {
   "cell_type": "code",
   "execution_count": null,
   "metadata": {},
   "outputs": [],
   "source": [
    "# a numerical loop\n",
    "for x in range(5,9):\n",
    "    print(x)"
   ]
  },
  {
   "cell_type": "markdown",
   "metadata": {},
   "source": [
    "**dictionaries:** these are objects in javascript, this is important because JSON (JavaScript object notation) it's one of the most common forms of data.\n",
    "\n"
   ]
  },
  {
   "cell_type": "code",
   "execution_count": null,
   "metadata": {},
   "outputs": [],
   "source": [
    "onecat = {\n",
    "    \"name\":\"Summer\",\n",
    "    \"color\":\"gray\",\n",
    "    \"personality\":\"sweet\"\n",
    "}\n",
    "onecat[\"name\"] #you cannot use .personality in Python (if you're a JavaScripter)\n",
    "#add a new key\n",
    "onecat[\"age\"] = 7\n",
    "onecat#if you put a variable name at the end of a cell it will display the variable."
   ]
  },
  {
   "cell_type": "code",
   "execution_count": null,
   "metadata": {},
   "outputs": [],
   "source": [
    "# conditional using dictionary keys\n",
    "if onecat[\"age\"] < 8:\n",
    "    print(onecat[\"name\"] + \" is still young\")\n",
    "elif onecat[\"age\"] == 8:\n",
    "    print(onecat[\"name\"] + \" is getting older\")\n",
    "else:\n",
    "    print(onecat[\"name\"] + \" is on the older side\")"
   ]
  },
  {
   "cell_type": "markdown",
   "metadata": {},
   "source": [
    "## Intro Homework: Python Basics\n",
    "\n",
    "If you are brand new to Python, or slightly new Python, or familiar with Python (this should be very straightforward) please complete **Part One** and **Part Two** before moving on to the images.\n",
    "\n"
   ]
  },
  {
   "cell_type": "markdown",
   "metadata": {},
   "source": [
    "### Part One: Basics\n",
    "Please get the desired output in the cell using print()"
   ]
  },
  {
   "cell_type": "code",
   "execution_count": null,
   "metadata": {},
   "outputs": [],
   "source": [
    "#use these variables for the next three questions \n",
    "cats = 7\n",
    "dogs = 8\n",
    "homes = 5"
   ]
  },
  {
   "cell_type": "code",
   "execution_count": null,
   "metadata": {},
   "outputs": [],
   "source": [
    "#how many cats and dogs total (do math with the variables)"
   ]
  },
  {
   "cell_type": "code",
   "execution_count": null,
   "metadata": {},
   "outputs": [],
   "source": [
    "# how many cats and dogs can live in each home if they are distributed evenly?\n",
    "# do the math using the variables"
   ]
  },
  {
   "cell_type": "code",
   "execution_count": null,
   "metadata": {},
   "outputs": [],
   "source": [
    "# make an if statement that tests which is there more of: cats or dogs \n",
    "#if one is larger than the other, it should print out \"there are more cats!\" or \"there are more dogs!\"\n"
   ]
  },
  {
   "cell_type": "code",
   "execution_count": null,
   "metadata": {},
   "outputs": [],
   "source": [
    "#complete these string variables, hint you need \" \"\n",
    "my_firstname =\n",
    "my_lastname =\n",
    "friend_firstname = \n",
    "friend_lastname = \n"
   ]
  },
  {
   "cell_type": "code",
   "execution_count": null,
   "metadata": {},
   "outputs": [],
   "source": [
    "#print() a sentence that states that the first person is friends with the other person \n",
    "#using all four variables\n",
    "\n",
    "\n"
   ]
  },
  {
   "cell_type": "code",
   "execution_count": null,
   "metadata": {},
   "outputs": [],
   "source": [
    "#use [] and a number to show the first initial of the friends last name.\n",
    "\n"
   ]
  },
  {
   "cell_type": "code",
   "execution_count": null,
   "metadata": {},
   "outputs": [],
   "source": [
    "# print out your first name in upper case\n",
    "\n"
   ]
  },
  {
   "cell_type": "code",
   "execution_count": null,
   "metadata": {},
   "outputs": [],
   "source": [
    "# you use this list for the questions below\n",
    "days = [\"Sunday\", \"Monday\", \"Tuesday\", \"Wednesday\", \"Thursday\", \"Friday\", \"Saturday\"]\n"
   ]
  },
  {
   "cell_type": "code",
   "execution_count": null,
   "metadata": {},
   "outputs": [],
   "source": [
    "#print Monday\n",
    "\n"
   ]
  },
  {
   "cell_type": "code",
   "execution_count": null,
   "metadata": {},
   "outputs": [],
   "source": [
    "#print Friday (using a negative number)\n",
    "\n"
   ]
  },
  {
   "cell_type": "code",
   "execution_count": null,
   "metadata": {},
   "outputs": [],
   "source": [
    "#print every day (loop!!)\n",
    "\n",
    "\n"
   ]
  },
  {
   "cell_type": "code",
   "execution_count": null,
   "metadata": {},
   "outputs": [],
   "source": [
    "#print Monday Wednesday and Friday using a loop that starts with element 1 \n",
    "#and skips every other element\n",
    "#google how to do that it has to do with adding bracketed parameters to the loop \n",
    "#(there is an example below)\n",
    "\n",
    "\n"
   ]
  },
  {
   "cell_type": "code",
   "execution_count": null,
   "metadata": {},
   "outputs": [],
   "source": [
    "#done!!!"
   ]
  },
  {
   "cell_type": "markdown",
   "metadata": {},
   "source": [
    "### Part Two: Hamlet Data\n",
    "Now we will search through a list of dictionary's with lines from Hamlet!"
   ]
  },
  {
   "cell_type": "code",
   "execution_count": null,
   "metadata": {},
   "outputs": [],
   "source": [
    "# importing built-in json the module\n",
    "import json\n",
    " \n",
    "# Opening the file and interpreting it as json/dictionary\n",
    "\n",
    "with open('hamlet.json') as json_file:\n",
    "    hamlet = json.load(json_file)"
   ]
  },
  {
   "cell_type": "code",
   "execution_count": null,
   "metadata": {},
   "outputs": [],
   "source": [
    "print(hamlet[1])\n",
    "#print(hamlet[1212][\"speaker\"] + hamlet[1212][\"text_entry\"])\n",
    "# for line in hamlet[3:13]: #printing lines 4 through 13\n",
    "#     print(line)"
   ]
  },
  {
   "cell_type": "markdown",
   "metadata": {},
   "source": [
    "Question 0 Print all lines spoken by Hamlet (you need an if statement inside the loop)"
   ]
  },
  {
   "cell_type": "code",
   "execution_count": null,
   "metadata": {},
   "outputs": [],
   "source": [
    "#Write your code here"
   ]
  },
  {
   "cell_type": "markdown",
   "metadata": {},
   "source": [
    "Question 1 Print all lines spoken by Ophelia (super similar)"
   ]
  },
  {
   "cell_type": "code",
   "execution_count": null,
   "metadata": {},
   "outputs": [],
   "source": [
    "#Write your code here"
   ]
  },
  {
   "cell_type": "markdown",
   "metadata": {},
   "source": [
    "Question 2 Print the first 10 lines spoken by Queen Gertrude (super similar, but you need to set up a counting variable and whenever you find a line add one to the counter, and use `break` to stop the loop when your counting variable reaches 10!)"
   ]
  },
  {
   "cell_type": "code",
   "execution_count": null,
   "metadata": {},
   "outputs": [],
   "source": [
    "#Write your code here"
   ]
  },
  {
   "cell_type": "markdown",
   "metadata": {},
   "source": [
    "Question 3 Print the last 10 lines of the play (it will actually include a couple lines from Henry V) \n",
    "just use negative numbers in the loop parameters to do this."
   ]
  },
  {
   "cell_type": "code",
   "execution_count": null,
   "metadata": {},
   "outputs": [],
   "source": [
    "#Write your code here"
   ]
  },
  {
   "cell_type": "markdown",
   "metadata": {},
   "source": [
    "Question 4 Print all lines that are shorter than 12 characters and who speaks them"
   ]
  },
  {
   "cell_type": "code",
   "execution_count": null,
   "metadata": {},
   "outputs": [],
   "source": [
    "#Write your code here"
   ]
  },
  {
   "cell_type": "code",
   "execution_count": null,
   "metadata": {},
   "outputs": [],
   "source": []
  },
  {
   "cell_type": "markdown",
   "metadata": {},
   "source": [
    "## Image Libraries!!!\n",
    "\n",
    "Look at all these examples of playing around with the python pillow image library and the scikit-image library. Bring in your own set of images and explore. If you have experience with python, take a look at either of these libraries, I suggest the scikit-image library, and see what code you could employed to make your own processes. \n",
    "\n",
    "Be as ambitious as you want! \n",
    "\n",
    "**For the discussions page:** Please post your favorite outcome from the image processes and include the code that you used and a brief description of what you did and why you found it interesting on Slack!\n",
    "\n",
    "You will need to install the following libraries to run everything here. If you add new code, you might need to add more.\n",
    "\n",
    "`pip install pillow`\n",
    "\n",
    "`pip install numpy`\n",
    "\n",
    "`pip install scikit-image`\n",
    "\n",
    "`pip install matplotlib`\n",
    "\n"
   ]
  },
  {
   "cell_type": "markdown",
   "metadata": {},
   "source": [
    "### Pillow (PIL) library\n",
    "This is not an AI/ML thing, but it's a good start!\n",
    "\n",
    "Here is the documentation: [https://python-pillow.org/](https://python-pillow.org/)\n"
   ]
  },
  {
   "cell_type": "code",
   "execution_count": null,
   "metadata": {},
   "outputs": [],
   "source": [
    "from PIL import Image\n",
    "#https://python-pillow.org/ for documentation and other examples\n",
    "im = Image.open(\"imagesBurtynsky/ANTH_EXT_CHL_ATA_LITH_01_17_SRC_2K.jpg\")"
   ]
  },
  {
   "cell_type": "code",
   "execution_count": null,
   "metadata": {},
   "outputs": [],
   "source": []
  },
  {
   "cell_type": "code",
   "execution_count": null,
   "metadata": {},
   "outputs": [],
   "source": [
    "im"
   ]
  },
  {
   "cell_type": "code",
   "execution_count": null,
   "metadata": {},
   "outputs": [],
   "source": [
    "new_width = 300\n",
    "smIm = im.resize((new_width, int(im.height * (new_width / im.width))))\n",
    "smIm"
   ]
  },
  {
   "cell_type": "code",
   "execution_count": null,
   "metadata": {},
   "outputs": [],
   "source": [
    "out = im.convert(\"1\")\n",
    "out.save(\"imagesBurtynsky/lithium_gray.jpg\", 'JPEG', quality=20)"
   ]
  },
  {
   "cell_type": "code",
   "execution_count": null,
   "metadata": {},
   "outputs": [],
   "source": [
    "out = im.transpose(Image.Transpose.FLIP_TOP_BOTTOM)\n",
    "out"
   ]
  },
  {
   "cell_type": "code",
   "execution_count": null,
   "metadata": {},
   "outputs": [],
   "source": [
    "box = (200, 400, 800, 800)\n",
    "region = im.crop(box)\n",
    "region"
   ]
  },
  {
   "cell_type": "code",
   "execution_count": null,
   "metadata": {},
   "outputs": [],
   "source": [
    "#point transfers, messing with the exposurw\n",
    "out = im.point(lambda i: i /2)\n",
    "out"
   ]
  },
  {
   "cell_type": "code",
   "execution_count": null,
   "metadata": {},
   "outputs": [],
   "source": [
    "# split the image into individual bands\n",
    "source = im.split()\n",
    "\n",
    "R, G, B = 0, 1, 2\n",
    "\n",
    "# select regions where red is less than 100\n",
    "mask = source[R].point(lambda i: i < 200 and 255)\n",
    "\n",
    "# process the green band\n",
    "out = source[B].point(lambda i: i * 0.7)\n",
    "\n",
    "# paste the processed band back, but only where red was < 100\n",
    "source[B].paste(out, None, mask)\n",
    "\n",
    "# build a new multiband image\n",
    "out2 = Image.merge(im.mode, source)\n",
    "out2"
   ]
  },
  {
   "cell_type": "code",
   "execution_count": null,
   "metadata": {},
   "outputs": [],
   "source": [
    "newim = im.copy()\n",
    "datas = newim.getdata()\n",
    "\n",
    "new_image_data = []\n",
    "\n",
    "for item in datas:\n",
    "    # change whites to yellow\n",
    "    if item[0] in list(range(190, 256)):\n",
    "        new_image_data.append((255, 204, 100))\n",
    "    else:\n",
    "        new_image_data.append(item)# update image data\n",
    "newim.putdata(new_image_data)\n",
    "newim"
   ]
  },
  {
   "cell_type": "code",
   "execution_count": null,
   "metadata": {},
   "outputs": [],
   "source": [
    "from PIL import ImageFilter #Image Filtering\n",
    "#https://pillow.readthedocs.io/en/stable/reference/ImageFilter.html\n",
    "\n",
    "im1 = im.filter(ImageFilter.GaussianBlur(radius=3))\n",
    "im1"
   ]
  },
  {
   "cell_type": "code",
   "execution_count": null,
   "metadata": {},
   "outputs": [],
   "source": [
    "red, green, blue = im.split()\n",
    "zeroed_band = red.point(lambda _: 0)\n",
    "\n",
    "red_merge = Image.merge(\n",
    "    \"RGB\", (red, zeroed_band, zeroed_band)\n",
    ")\n",
    "\n",
    "green_merge = Image.merge(\n",
    "    \"RGB\", (zeroed_band, green, zeroed_band)\n",
    ")\n",
    "\n",
    "blue_merge = Image.merge(\n",
    "    \"RGB\", (zeroed_band, zeroed_band, blue)\n",
    ")\n",
    "\n",
    "red_merge\n",
    "# green_merge.show()\n",
    "# blue_merge.show()"
   ]
  },
  {
   "cell_type": "code",
   "execution_count": null,
   "metadata": {},
   "outputs": [],
   "source": [
    "img_gray = im.convert(\"L\")\n",
    "edges = img_gray.filter(ImageFilter.FIND_EDGES)\n",
    "edges"
   ]
  },
  {
   "cell_type": "code",
   "execution_count": null,
   "metadata": {},
   "outputs": [],
   "source": [
    "import numpy as np\n",
    "from PIL import Image\n",
    "\n",
    "red = np.zeros((600, 600))\n",
    "green = np.zeros((600, 600))\n",
    "blue = np.zeros((600, 600))\n",
    "red[150:350, 150:350] = 102\n",
    "green[200:400, 200:400] = 155\n",
    "blue[250:450, 250:450] = 180\n",
    "\n",
    "red_img = Image.fromarray(red).convert(\"L\")\n",
    "green_img = Image.fromarray(green).convert(\"L\")\n",
    "blue_img = Image.fromarray((blue)).convert(\"L\")\n",
    "\n",
    "square_img = Image.merge(\"RGB\", (red_img, green_img, blue_img))\n",
    "square_img"
   ]
  },
  {
   "cell_type": "code",
   "execution_count": null,
   "metadata": {},
   "outputs": [],
   "source": [
    "#UMMM super useful, but not fancy:\n",
    "#loop through every image in a folder and make smaller versions!!!\n",
    "\n",
    "import os\n",
    "folder=\"imagesBurtynsky/\"\n",
    "for file in os.listdir(folder):\n",
    "    if file.endswith(\".jpg\"):\n",
    "        name = os.path.join(folder, file)\n",
    "        eachim = Image.open(name)\n",
    "        print(name)\n",
    "        smIm = eachim.resize((new_width, int(im.height * (new_width / im.width))))\n",
    "        newname = name.split(\".\")[0]+'_resized.jpg'\n",
    "        print(newname)\n",
    "        smIm.save(newname, 'JPEG', quality=90)"
   ]
  },
  {
   "cell_type": "code",
   "execution_count": null,
   "metadata": {},
   "outputs": [],
   "source": []
  },
  {
   "cell_type": "markdown",
   "metadata": {},
   "source": [
    "### Scikit-image Library\n",
    "We are wading into ML territory!!\n",
    "\n",
    "Documentation: [https://scikit-image.org/](https://scikit-image.org/)"
   ]
  },
  {
   "cell_type": "code",
   "execution_count": null,
   "metadata": {},
   "outputs": [],
   "source": [
    "import matplotlib.pyplot as plt\n",
    "import skimage as ski\n",
    "from skimage import data\n",
    "from skimage.color import rgb2hsv\n"
   ]
  },
  {
   "cell_type": "code",
   "execution_count": null,
   "metadata": {},
   "outputs": [],
   "source": []
  },
  {
   "cell_type": "code",
   "execution_count": null,
   "metadata": {},
   "outputs": [],
   "source": [
    "from skimage.io import imread, imshow\n",
    "myim = imread('imagesBurtynsky/ANTH_EXT_CHL_ATA_LITH_01_17_SRC_2K.jpg')\n"
   ]
  },
  {
   "cell_type": "code",
   "execution_count": null,
   "metadata": {},
   "outputs": [],
   "source": [
    "rgb_img = myim\n",
    "hsv_img = rgb2hsv(rgb_img)\n",
    "hue_img = hsv_img[:, :, 0]\n",
    "value_img = hsv_img[:, :, 2]\n",
    "\n",
    "fig, (ax0, ax1, ax2) = plt.subplots(ncols=3, figsize=(8, 2))\n",
    "\n",
    "ax0.imshow(rgb_img)\n",
    "ax0.set_title(\"RGB image\")\n",
    "ax0.axis('off')\n",
    "ax1.imshow(hue_img, cmap='hsv')\n",
    "ax1.set_title(\"Hue channel\")\n",
    "ax1.axis('off')\n",
    "ax2.imshow(value_img)\n",
    "ax2.set_title(\"Value channel\")\n",
    "ax2.axis('off')\n",
    "\n",
    "fig.tight_layout()"
   ]
  },
  {
   "cell_type": "code",
   "execution_count": null,
   "metadata": {},
   "outputs": [],
   "source": []
  },
  {
   "cell_type": "code",
   "execution_count": null,
   "metadata": {},
   "outputs": [],
   "source": [
    "import numpy as np\n",
    "import matplotlib.pyplot as plt\n",
    "\n",
    "from skimage import data\n",
    "from skimage.color import rgb2hed, hed2rgb\n",
    "# Example image\n",
    "ihc_rgb = myim\n",
    "\n",
    "# Separate the stains from the image\n",
    "ihc_hed = rgb2hed(ihc_rgb)\n",
    "\n",
    "# Create an RGB image for each of the stains\n",
    "null = np.zeros_like(ihc_hed[:, :, 0])\n",
    "ihc_h = hed2rgb(np.stack((ihc_hed[:, :, 0], null, null), axis=-1))\n",
    "ihc_e = hed2rgb(np.stack((null, ihc_hed[:, :, 1], null), axis=-1))\n",
    "ihc_d = hed2rgb(np.stack((null, null, ihc_hed[:, :, 2]), axis=-1))\n",
    "\n",
    "# Display\n",
    "fig, axes = plt.subplots(2, 2, figsize=(7, 6), sharex=True, sharey=True)\n",
    "ax = axes.ravel()\n",
    "\n",
    "ax[0].imshow(ihc_rgb)\n",
    "ax[0].set_title(\"Original image\")\n",
    "\n",
    "ax[1].imshow(ihc_h)\n",
    "ax[1].set_title(\"Purple Stain\")\n",
    "\n",
    "ax[2].imshow(ihc_d)\n",
    "ax[2].set_title(\"Sepia Stain\")\n",
    "\n",
    "for a in ax.ravel():\n",
    "    a.axis('off')\n",
    "\n",
    "fig.tight_layout()\n"
   ]
  },
  {
   "cell_type": "code",
   "execution_count": null,
   "metadata": {},
   "outputs": [],
   "source": [
    "bwim = imread('myImages/lithium_gray.jpg')\n"
   ]
  },
  {
   "cell_type": "code",
   "execution_count": null,
   "metadata": {},
   "outputs": [],
   "source": [
    "import numpy as np\n",
    "import matplotlib.pyplot as plt\n",
    "\n",
    "from skimage.data import shepp_logan_phantom\n",
    "from skimage.transform import radon, rescale\n",
    "\n",
    "image = bwim\n",
    "\n",
    "image = rescale(image, scale=0.4, mode='reflect', channel_axis=None)\n",
    "\n",
    "fig, (ax1, ax2) = plt.subplots(1, 2, figsize=(8, 4.5))\n",
    "\n",
    "ax1.set_title(\"Original\")\n",
    "ax1.imshow(image, cmap=plt.cm.Greys_r)\n",
    "\n",
    "theta = np.linspace(0.0, 180.0, max(image.shape), endpoint=False)\n",
    "sinogram = radon(image, theta=theta)\n",
    "dx, dy = 0.5 * 180.0 / max(image.shape), 0.5 / sinogram.shape[0]\n",
    "ax2.set_title(\"Radon transform\\n(Sinogram)\")\n",
    "ax2.set_xlabel(\"Projection angle (deg)\")\n",
    "ax2.set_ylabel(\"Projection position (pixels)\")\n",
    "ax2.imshow(\n",
    "    sinogram,\n",
    "    cmap=plt.cm.Greys_r,\n",
    "    extent=(-dx, 180.0 + dx, -dy, sinogram.shape[0] + dy),\n",
    "    aspect='auto',\n",
    ")\n",
    "\n",
    "fig.tight_layout()\n",
    "plt.show()"
   ]
  },
  {
   "cell_type": "code",
   "execution_count": null,
   "metadata": {},
   "outputs": [],
   "source": []
  },
  {
   "cell_type": "code",
   "execution_count": null,
   "metadata": {},
   "outputs": [],
   "source": []
  },
  {
   "cell_type": "code",
   "execution_count": null,
   "metadata": {},
   "outputs": [],
   "source": []
  },
  {
   "cell_type": "code",
   "execution_count": null,
   "metadata": {},
   "outputs": [],
   "source": []
  }
 ],
 "metadata": {
  "kernelspec": {
   "display_name": "Python 3 (ipykernel)",
   "language": "python",
   "name": "python3"
  },
  "language_info": {
   "codemirror_mode": {
    "name": "ipython",
    "version": 3
   },
   "file_extension": ".py",
   "mimetype": "text/x-python",
   "name": "python",
   "nbconvert_exporter": "python",
   "pygments_lexer": "ipython3",
   "version": "3.11.6"
  }
 },
 "nbformat": 4,
 "nbformat_minor": 4
}
