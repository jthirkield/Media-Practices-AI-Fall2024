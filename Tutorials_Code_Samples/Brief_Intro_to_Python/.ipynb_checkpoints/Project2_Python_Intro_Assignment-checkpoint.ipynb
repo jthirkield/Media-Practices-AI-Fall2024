{
 "cells": [
  {
   "cell_type": "markdown",
   "metadata": {},
   "source": [
    "## Using Python \n",
    "Welcome to Python! Python is a programming language that is particularly powerful for dealing with multiple text documents, running statistics, and running machine learning algorithms (and much much more!). There are many libraries and extensions of Python that make it a very effective and useful language.\n",
    "\n",
    "**Books:** There are two very good books for learning python. \n",
    "\n",
    "*Introducing Python* by Bill Lubanovic is the rare good, clear introduction to the language and to programming in general.\n",
    "\n",
    "*Python Crash Course* by Eric Matthes gives you a project based introduction, I have heard good things from those who have used this book."
   ]
  },
  {
   "cell_type": "markdown",
   "metadata": {},
   "source": [
    "## Using Jupyter Notebook\n",
    "This is Jupyter Notebook, we are coding in it. It is an excellent, very manageable runtime enviroment.\n",
    "\n",
    "It even allows us to use Mark Down Language in specific cells (like this one) to write text and even include images, in order to make the notebook more readable.\n",
    "\n",
    "To run cells in Jupyter you can click the menu at the top: cell>Run Cells (you can even run a bunch of cells, though be careful about that...). But the best way is to select a cell and press **shift+enter**"
   ]
  },
  {
   "cell_type": "markdown",
   "metadata": {},
   "source": [
    "## Some Python Basics!!\n",
    "**variables:** these are the same as javascript, but no keywords for declaring them.\n",
    "\n",
    "just state the variable name, and go!"
   ]
  },
  {
   "cell_type": "code",
   "execution_count": null,
   "metadata": {},
   "outputs": [],
   "source": [
    "name = \"Dr. Python\"\n",
    "print(name + \" is my name!\")\n",
    "# number = 9\n",
    "# print(name + number) #this is bad, and will break things"
   ]
  },
  {
   "cell_type": "markdown",
   "metadata": {},
   "source": [
    "**strings:** As you can see above, they work the same as JS\n",
    "\n",
    "As you will see the built-in methods in Python do differ in name from JS methods\n",
    "\n",
    "So, some googling, tutorials can be helpful"
   ]
  },
  {
   "cell_type": "code",
   "execution_count": null,
   "metadata": {},
   "outputs": [],
   "source": [
    "mystring = \"Welcome to Python\"\n",
    "mystring[0] #first character in the string\n",
    "mystring.upper() #makes it uppercase"
   ]
  },
  {
   "cell_type": "markdown",
   "metadata": {},
   "source": [
    "**lists:** these are arrays!! \n",
    "\n",
    "Python likes to make names more familiar \n",
    "\n",
    "(but this can cause confusion because \"list\" is very common word)\n",
    "\n",
    "They work exactly the same as arrays."
   ]
  },
  {
   "cell_type": "code",
   "execution_count": null,
   "metadata": {},
   "outputs": [],
   "source": [
    "cats = [\"Popcorn\",\"Summer\",\"Lightning\"]\n",
    "len(cats) #there is no .length property, you need to use the built-in len() function\n",
    "cats[0]\n",
    "cats.append(\"Mittens\") #push() in JS is append() in Python\n",
    "cats[-1] #last element in the list"
   ]
  },
  {
   "cell_type": "markdown",
   "metadata": {},
   "source": [
    "**dictionaries:** these are objects\n",
    "\n",
    "Except objects in javascript can also have methods attached to them\n",
    "\n",
    "dicts in python are just data structures\n",
    "\n",
    "in Python the properties are called keys\n"
   ]
  },
  {
   "cell_type": "code",
   "execution_count": null,
   "metadata": {},
   "outputs": [],
   "source": [
    "#note indents are incredibly important in Python!!\n",
    "#more on that in the next cells...\n",
    "onecat = {\n",
    "    \"name\":\"Summer\",\n",
    "    \"color\":\"gray\",\n",
    "    \"personality\":\"sweet\"\n",
    "}\n",
    "onecat[\"personality\"] #you cannot use .personality in Python\n",
    "#add a new key\n",
    "onecat[\"age\"] = 7\n",
    "onecat#if you put a variable name at the end of a cell it will display the variable."
   ]
  },
  {
   "cell_type": "markdown",
   "metadata": {},
   "source": [
    "**conditionals:** these work just like in JS, but different syntax\n",
    "\n",
    "The : is a key syntatical structure, and indents are crutial!! If you indent incorrectly it will break.\n"
   ]
  },
  {
   "cell_type": "code",
   "execution_count": null,
   "metadata": {},
   "outputs": [],
   "source": [
    "if onecat[\"age\"] < 8:\n",
    "    print(\"still young\")\n",
    "elif onecat[\"age\"] == 8:\n",
    "    print(\"getting older\")\n",
    "else:\n",
    "    print(\"on the older side\")"
   ]
  },
  {
   "cell_type": "markdown",
   "metadata": {},
   "source": [
    "**loops:** ok, these are a leap!!\n",
    "\n",
    "python doesn't like the control variable, like i, for its default loops\n",
    "\n",
    "it just loops through every item in a list\n",
    "\n",
    "the first term in the loop is as a loop-specific variable that contains each individual element in the list\n",
    "\n",
    "so loops are MUCH cleaner and simpler looking, but more opaque (hard to read/understand)"
   ]
  },
  {
   "cell_type": "code",
   "execution_count": null,
   "metadata": {},
   "outputs": [],
   "source": [
    "#note: print() is basically the Python console.log\n",
    "for cat in cats:\n",
    "    print(cat)"
   ]
  },
  {
   "cell_type": "markdown",
   "metadata": {},
   "source": [
    "You can do a JS-like control variable loop, like this \n",
    "\n",
    "(but it is frowned upon, unless you need to do something more complex than just iterate through a list)"
   ]
  },
  {
   "cell_type": "code",
   "execution_count": null,
   "metadata": {},
   "outputs": [],
   "source": [
    "#don't do this\n",
    "for x in range(len(cats)):\n",
    "    print(x)\n",
    "    print(cats[x])"
   ]
  },
  {
   "cell_type": "code",
   "execution_count": null,
   "metadata": {},
   "outputs": [],
   "source": [
    "#again javascripty logic here, try to avoid\n",
    "for x in range(0,9):#range defaults at 0 so range(9) would produce the same results\n",
    "    print(x)"
   ]
  },
  {
   "cell_type": "markdown",
   "metadata": {},
   "source": [
    "## Code Intensive 3: Python version -- investigating lists and dictionaries\n",
    "\n",
    "\n",
    "In this assignment I will ask you to pick five relatively short texts (poems, paragraphs, short essays, song lyrics, whatever interests you). The main thing is to make sure that each text is around 10 - 20 lines or sentences long. Below, I have selected five poems by Wallace Stevens. In each cell I have made a variable that contains each poem, and then I pass that poem through a function called `text_to_dict` that makes a dictionary for each poem. The dictionary contains the title of the poem, the full text as one string, and a list that contains each line of the poem. The function will also make lists of sentences instead of lines if you want to investigate a prose text (sentence by sentence) instead of a poem (line by line).\n",
    "\n",
    "There are two parts of this assignment. \n",
    "\n",
    "**Part 1**, which should be easy, is to replace the poems with texts of your own choice--and choose to split them by lines or sentences. \n",
    "\n",
    "**Part 2** write code to get the proper results. We don't need to make functions here, because you will just use cells to run them. \n"
   ]
  },
  {
   "cell_type": "code",
   "execution_count": null,
   "metadata": {},
   "outputs": [],
   "source": [
    "#And to initialize the all texts list that will contain all of your dictionaries of text\n",
    "#TO RUN A CELL, CLICK ON THE CELL AND THEN PRESS shift+return (Or use the cell menu above)\n",
    "\n",
    "all_texts = [] #lists"
   ]
  },
  {
   "cell_type": "markdown",
   "metadata": {},
   "source": [
    "** understanding the text_to_dict function**\n",
    "\n",
    "You don't have to completely understand this function to use it, but you do need to understand its parameters. It takes three parameters:\n",
    "* `title` is a string you need to write inside function's parameters\n",
    "* `text` is the variable that holds the entire text\n",
    "* `poem` True/False parameter --if it is true it will split your text by line (`\\n`) \n",
    " \tIf it is false it will split your text by sentence ('[.?!])\n",
    "\n",
    "If you look at the function you will see that it builds a dictionary with the following fields:\n",
    "* `title` is the title of the text\n",
    "* `text_as_string` is the full text as a string\n",
    "* `lines` is a list of lines or sentences\n",
    "\n",
    "It returns a dictionary with those fields."
   ]
  },
  {
   "cell_type": "code",
   "execution_count": null,
   "metadata": {},
   "outputs": [],
   "source": [
    "import re #so the regex in here works\n",
    "def text_to_dict(title,text,poem):\n",
    "    dict_of_this_text = {}\n",
    "    dict_of_this_text['title'] = title\n",
    "    dict_of_this_text['text_as_string'] = text\n",
    "    if poem:\n",
    "        text_to_list = text.strip().split('\\n')\n",
    "    else:\n",
    "        text_to_list = re.split(r\"[.?!]\",text)\n",
    "    dict_of_this_text['lines'] = text_to_list\n",
    "    return dict_of_this_text\n",
    "\n",
    "#Here is a mini-function so you understand what it does\n",
    "def hello(who):\n",
    "    print(\"Hello \"+who)\n",
    "\n"
   ]
  },
  {
   "cell_type": "code",
   "execution_count": null,
   "metadata": {},
   "outputs": [],
   "source": [
    "print(\"Hello Everyone!\")\n",
    "hello(\"Zoom Watcher!\")"
   ]
  },
  {
   "cell_type": "markdown",
   "metadata": {},
   "source": [
    "## Part One\n",
    "\n",
    "The next five cells are exactly the same. They define five different texts, and then they pass each text through the `text_to_dict` function. And then they add the resulting dictionary to the all_texts list. \n",
    "\n",
    "In the five cells below enter your five selected texts.\n",
    "\n",
    "**You should do no coding at any point** until the very last cell before part two."
   ]
  },
  {
   "cell_type": "code",
   "execution_count": null,
   "metadata": {},
   "outputs": [],
   "source": [
    "#To change the text, just put a new text between the quotation mark\n",
    "text0 = '''\n",
    "Call the roller of big cigars, \n",
    "The muscular one, and bid him whip \n",
    "In kitchen cups concupiscent curds. \n",
    "Let the wenches dawdle in such dress \n",
    "As they are used to wear, and let the boys \n",
    "Bring flowers in last month's newspapers. \n",
    "Let be be finale of seem. \n",
    "The only emperor is the emperor of ice-cream. \n",
    "\n",
    "Take from the dresser of deal, \n",
    "Lacking the three glass knobs, that sheet \n",
    "On which she embroidered fantails once \n",
    "And spread it so as to cover her face. \n",
    "If her horny feet protrude, they come \n",
    "To show how cold she is, and dumb. \n",
    "Let the lamp affix its beam. \n",
    "The only emperor is the emperor of ice-cream.\n",
    "'''\n",
    "#Remember: you need to type the title into the first parameter\n",
    "#If you want to split by line choose True for the third parameter\n",
    "#If you want to split by sentence, choose False\n",
    "transform_it = text_to_dict(\"Emperor of Ice Cream\",text0,True)\n",
    "all_texts.append(transform_it)"
   ]
  },
  {
   "cell_type": "code",
   "execution_count": null,
   "metadata": {},
   "outputs": [],
   "source": [
    "all_texts[0][\"lines\"][-1]\n",
    "all_texts[0][\"lines\"][0]"
   ]
  },
  {
   "cell_type": "code",
   "execution_count": null,
   "metadata": {},
   "outputs": [],
   "source": [
    "text1 = '''\n",
    "One must have a mind of winter \n",
    "To regard the frost and the boughs \n",
    "Of the pine-trees crusted with snow; \n",
    "\n",
    "And have been cold a long time \n",
    "To behold the junipers shagged with ice, \n",
    "The spruces rough in the distant glitter \n",
    "\n",
    "Of the January sun; and not to think \n",
    "Of any misery in the sound of the wind, \n",
    "In the sound of a few leaves, \n",
    "\n",
    "Which is the sound of the land \n",
    "Full of the same wind \n",
    "That is blowing in the same bare place \n",
    "\n",
    "For the listener, who listens in the snow, \n",
    "And, nothing himself, beholds \n",
    "Nothing that is not there and the nothing that is.\n",
    "'''\n",
    "transform_it = text_to_dict(\"The Snow Man\",text1,True)\n",
    "all_texts.append(transform_it)"
   ]
  },
  {
   "cell_type": "code",
   "execution_count": null,
   "metadata": {},
   "outputs": [],
   "source": [
    "text2 = '''\n",
    "The palm at the end of the mind,\n",
    "Beyond the last thought, rises\n",
    "In the bronze decor,\n",
    "\n",
    "A gold-feathered bird\n",
    "Sings in the palm, without human meaning,\n",
    "Without human feeling, a foreign song.\n",
    "\n",
    "You know then that it is not the reason \n",
    "That makes us happy or unhappy. \n",
    "The bird sings. Its feathers shine.\n",
    "\n",
    "The palm stands on the edge of space. \n",
    "The wind moves slowly in the branches. \n",
    "The bird's fire-fangled feathers dangle down.\n",
    "'''\n",
    "transform_it = text_to_dict(\"Of Mere Being\",text2,True)\n",
    "all_texts.append(transform_it)"
   ]
  },
  {
   "cell_type": "code",
   "execution_count": null,
   "metadata": {},
   "outputs": [],
   "source": [
    "all_texts[1]['lines'][0]\n",
    "all_texts[2][\"lines\"][2]"
   ]
  },
  {
   "cell_type": "code",
   "execution_count": null,
   "metadata": {},
   "outputs": [],
   "source": [
    "text3 = '''\n",
    "As the immense dew of Florida \n",
    "Brings forth\n",
    "The big-finned palm\n",
    "And green vine angering for life,\n",
    " \n",
    "As the immense dew of Florida\n",
    "Brings forth hymn and hymn\n",
    "From the beholder,\n",
    "Beholding all these green sides\n",
    "And gold sides of green sides,\n",
    " \n",
    "And blessed mornings,\n",
    "Meet for the eye of the young alligator,\n",
    "And lightning colors\n",
    "So, in me, come flinging\n",
    "Forms, flames, and the flakes of flames.\n",
    "'''\n",
    "transform_it = text_to_dict(\"Nomad Exquisite\",text3,True)\n",
    "all_texts.append(transform_it)"
   ]
  },
  {
   "cell_type": "code",
   "execution_count": null,
   "metadata": {},
   "outputs": [],
   "source": [
    "text4 = '''\n",
    "I placed a jar in Tennessee, \n",
    "And round it was, upon a hill. \n",
    "It made the slovenly wilderness \n",
    "Surround that hill. \n",
    "\n",
    "The wilderness rose up to it, \n",
    "And sprawled around, no longer wild. \n",
    "The jar was round upon the ground \n",
    "And tall and of a port in air. \n",
    "\n",
    "It took dominion everywhere. \n",
    "The jar was gray and bare. \n",
    "It did not give of bird or bush, \n",
    "Like nothing else in Tennessee.\n",
    "'''\n",
    "transform_it = text_to_dict(\"Anecdote of the Jar\",text4,True)\n",
    "all_texts.append(transform_it)"
   ]
  },
  {
   "cell_type": "markdown",
   "metadata": {},
   "source": [
    "Run the two cells below to confirm that first, you only have five texts in the all_texts list, and next, look at the all_texts list to see the dictionary inside it. "
   ]
  },
  {
   "cell_type": "code",
   "execution_count": null,
   "metadata": {},
   "outputs": [],
   "source": [
    "len(all_texts)"
   ]
  },
  {
   "cell_type": "code",
   "execution_count": null,
   "metadata": {},
   "outputs": [],
   "source": [
    "#now that you have built your list of dictionaries (poems)\n",
    "#inspect it a bit here...\n",
    "all_texts[-2][\"lines\"][-1]\n",
    "all_texts\n"
   ]
  },
  {
   "cell_type": "code",
   "execution_count": null,
   "metadata": {},
   "outputs": [],
   "source": []
  },
  {
   "cell_type": "markdown",
   "metadata": {},
   "source": [
    "In the cell below, loop through all_texts and print out the title of each text."
   ]
  },
  {
   "cell_type": "code",
   "execution_count": null,
   "metadata": {},
   "outputs": [],
   "source": [
    "for text in all_texts:\n",
    "    print(text['title'])"
   ]
  },
  {
   "cell_type": "code",
   "execution_count": null,
   "metadata": {},
   "outputs": [],
   "source": [
    "#here I am going to loop through every text and every line, and print out each line\n",
    "\n",
    "for text in all_texts:\n",
    "    print(\"*******************\")\n",
    "    print(text[\"title\"])\n",
    "    for line in text[\"lines\"]:\n",
    "        print(line)\n",
    "        print(\"-----------\")"
   ]
  },
  {
   "cell_type": "markdown",
   "metadata": {},
   "source": [
    "## Part Two:  searching within lists and dictionaries\n",
    "In this part, we will be searching through each text and printing out a desired result.\n",
    "\n",
    "I have written an example for below—you may copy it and modify it in the cell below.\n",
    "\n",
    "Go step-by-step and take your time."
   ]
  },
  {
   "cell_type": "code",
   "execution_count": null,
   "metadata": {},
   "outputs": [],
   "source": [
    "for text in all_texts:\n",
    "    print(text['title'])\n",
    "    print(len(text['text_as_string']))\n",
    "    print(\"------------\")\n"
   ]
  },
  {
   "cell_type": "markdown",
   "metadata": {},
   "source": [
    "Question 1\n",
    "Now write some code that gets the **line count for each poem** (or sentence count for each piece of prose). This loop is going to be very similar to the last one. Instead of accessing the whole text via text['text_as_string'] which is a string, you need to access the list of lines/sentences and get the length of that list. Everything else should be the same."
   ]
  },
  {
   "cell_type": "code",
   "execution_count": null,
   "metadata": {},
   "outputs": [],
   "source": [
    "#you just need one loop!\n",
    "for text in all_texts:\n"
   ]
  },
  {
   "cell_type": "markdown",
   "metadata": {},
   "source": [
    "Question 2\n",
    "Now write some code that prints out a **random line or sentence from each text**. This loop will look much the same as the last ones, but instead of getting numbers you need to get actual lines. I have included the necessary import and an example of how to get random integers. Basically, for each text you need to get one element from the list of lines/ sentences with a random number between 0 and the length of the list."
   ]
  },
  {
   "cell_type": "code",
   "execution_count": null,
   "metadata": {},
   "outputs": [],
   "source": [
    "\n",
    "from random import randint\n",
    "\n",
    "#This should be inside the loop \n",
    "#so you get a fresh random number for each text\n",
    "#And it should not be from 0 to 9, but 0 to what?\n",
    "#Keep in mind that the range (0,9) give you any number \n",
    "#from 0 to 9 including both 0 and 9.\n",
    "random_num = randint(0, 9)\n",
    "random_num\n",
    "\n",
    "#write you loop below:\n"
   ]
  },
  {
   "cell_type": "markdown",
   "metadata": {},
   "source": [
    "Question 3\n",
    "This is a little bit different--instead of printing out something from each text, I want you to **print the entire text of the longest text**. Remember in the first example, I printed out the length of each text. Well, you need to test for the longest text as you look through and when you're done looping through print out the one that is longest.\n",
    "\n",
    "**Major hints!**: To do this you will need two **tracking variables** set before the loop runs: A numerical one that tracks the longest length (the number), and string variable remembers the actual text that has that length.\n",
    "\n",
    "Like this: longest_length = 0 and longest_text = \"\"\n",
    "\n",
    "When you loop through you need to test if each text was longer than the last one, and if it is longer--you update longest_length and longest_text to reflect the highest length, and the actual text. When the loop is over you then print out that longest_text string."
   ]
  },
  {
   "cell_type": "code",
   "execution_count": null,
   "metadata": {},
   "outputs": [],
   "source": [
    "#Write your loop here"
   ]
  },
  {
   "cell_type": "markdown",
   "metadata": {},
   "source": [
    "Question 4\n",
    "This is kind of a combination of the first two questions--write some code gets the **average line/sentence length for each text**."
   ]
  },
  {
   "cell_type": "code",
   "execution_count": null,
   "metadata": {},
   "outputs": [],
   "source": [
    "#Write your code here"
   ]
  },
  {
   "cell_type": "markdown",
   "metadata": {},
   "source": [
    "Question 5\n",
    "**Print the longest line/sentence in each text**. \n",
    "This is similar to question 3--but your two tracking variables (longest_length and longest_line) need to be placed right before the inside loop--and then you print the lines each time the inside loop ends."
   ]
  },
  {
   "cell_type": "code",
   "execution_count": null,
   "metadata": {},
   "outputs": [],
   "source": [
    "#Write your code here, you will need a loop within a loop (indent!!)"
   ]
  },
  {
   "cell_type": "markdown",
   "metadata": {},
   "source": [
    "## HAMLET (AGAIN!)\n",
    "These are the same questions as last weeks homework, but in Python!"
   ]
  },
  {
   "cell_type": "code",
   "execution_count": null,
   "metadata": {},
   "outputs": [],
   "source": [
    "# importing built-in json the module\n",
    "import json\n",
    " \n",
    "# Opening the file and interpreting it as json/dictionary\n",
    "#this is NOT the exact same file as the one we used in the JS assignment\n",
    "#there was some invalid character that were rejected by the json parser, JS is more forgiving than Python\n",
    "with open('hamlet.json') as json_file:\n",
    "    hamlet = json.load(json_file)"
   ]
  },
  {
   "cell_type": "code",
   "execution_count": null,
   "metadata": {},
   "outputs": [],
   "source": [
    "#change that list element number to get random lines from hamlet\n",
    "hamlet[1][\"text_entry\"]"
   ]
  },
  {
   "cell_type": "markdown",
   "metadata": {},
   "source": [
    "Question 6 Print all lines spoken by Hamlet"
   ]
  },
  {
   "cell_type": "code",
   "execution_count": null,
   "metadata": {},
   "outputs": [],
   "source": [
    "#Write your code here"
   ]
  },
  {
   "cell_type": "markdown",
   "metadata": {},
   "source": [
    "Question 7 Print all lines spoken by Ophelia"
   ]
  },
  {
   "cell_type": "code",
   "execution_count": null,
   "metadata": {},
   "outputs": [],
   "source": [
    "#Write your code here"
   ]
  },
  {
   "cell_type": "markdown",
   "metadata": {},
   "source": [
    "Question 8 Print the first 10 lines spoken by Gertrude"
   ]
  },
  {
   "cell_type": "code",
   "execution_count": null,
   "metadata": {},
   "outputs": [],
   "source": [
    "#Write your code here"
   ]
  },
  {
   "cell_type": "markdown",
   "metadata": {},
   "source": [
    "Question 9 Print all of the longest speech"
   ]
  },
  {
   "cell_type": "code",
   "execution_count": null,
   "metadata": {},
   "outputs": [],
   "source": [
    "#Write your code here"
   ]
  },
  {
   "cell_type": "markdown",
   "metadata": {},
   "source": [
    "Question 10 Print the shortest line and who speaks it!"
   ]
  },
  {
   "cell_type": "code",
   "execution_count": null,
   "metadata": {},
   "outputs": [],
   "source": [
    "#Write your code here"
   ]
  }
 ],
 "metadata": {
  "kernelspec": {
   "display_name": "Python 3 (ipykernel)",
   "language": "python",
   "name": "python3"
  },
  "language_info": {
   "codemirror_mode": {
    "name": "ipython",
    "version": 3
   },
   "file_extension": ".py",
   "mimetype": "text/x-python",
   "name": "python",
   "nbconvert_exporter": "python",
   "pygments_lexer": "ipython3",
   "version": "3.11.6"
  }
 },
 "nbformat": 4,
 "nbformat_minor": 4
}
