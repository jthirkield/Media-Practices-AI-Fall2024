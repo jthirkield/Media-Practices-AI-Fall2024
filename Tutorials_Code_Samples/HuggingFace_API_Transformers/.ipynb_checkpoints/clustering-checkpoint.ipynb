{
 "cells": [
  {
   "cell_type": "markdown",
   "id": "f7c00075-5497-484c-9449-75c14d8ae5de",
   "metadata": {},
   "source": [
    "## K-Means Clustering\n",
    "\n",
    "This is a classic example of **unsupervised learning.** Take a look at sklean's explaination:\n",
    "\n",
    "https://scikit-learn.org/1.5/modules/clustering.html#k-means\n",
    "\n",
    "This is used for taking a dataset and grouping a variable number of similar entities within it.\n",
    "\n",
    "Central concepts:\n",
    "\n",
    "**interia**: simplified, this is a measurement of similarity within clusters (distance from the center of data in each group). You want your clusters to be as general (low interia) and limited (small number of clusters) as possible understanding that this is dependent on the context.\n",
    "\n",
    "**centriods**: This is how k-means operates. By mapping all of the data points in vector space it looks for centers of certain clusters. A centroid would be the center of a specific group.\n",
    "\n",
    "**elbow graph**: this is a graph that you output to try to assess what the optimal number (*k*) of clusters are. It's not always perfectly dependable, but generally the graph will take a hard turn, when cluster get to be too similar. That said, often we use trial and error to see what clusters are the most meaningful.\n",
    "\n",
    "**uses**: this is used to cluster groups of text, handwritten digits, and many other data sets that are not pre-relabeled.\n"
   ]
  },
  {
   "cell_type": "markdown",
   "id": "c6d4a567-3591-4052-a068-7abb15f1bcb1",
   "metadata": {},
   "source": [
    "### K-means Clustering on Images for Palettes/Dominant Colors\n",
    "\n",
    "Yes, we are jumping back into images!\n",
    "\n",
    "This is a very simple way of engaging unsupervised learning, and assessing the process of clustering.\n",
    "\n",
    "Below, I take us through the process of creating **color clusters** and for your homework, you'll be asked to run through this process, multiple times with multiple images and assess the outcomes.\n",
    "\n",
    "The only new library that needs to be installed is the **CV2** library (computer vision). It is more powerful than Pillow in this context, and produces matrices of image colors that map well to K-means.\n",
    "\n",
    "`pip install opencv-python`\n"
   ]
  },
  {
   "cell_type": "markdown",
   "id": "91dc2bcd-f609-437d-ab1d-f8c281fd4005",
   "metadata": {},
   "source": [
    "**import you librarys**"
   ]
  },
  {
   "cell_type": "code",
   "execution_count": null,
   "id": "c19297a6-fab7-40a3-8f0a-72587d515e6a",
   "metadata": {},
   "outputs": [],
   "source": [
    "import numpy as np\n",
    "import pandas as pd\n",
    "import matplotlib.pyplot as plt\n",
    "import cv2\n",
    "from sklearn.cluster import KMeans"
   ]
  },
  {
   "cell_type": "markdown",
   "id": "0d1b5aea-4551-481d-b78f-7452062ecda8",
   "metadata": {},
   "source": [
    "Load in the image with cv2"
   ]
  },
  {
   "cell_type": "code",
   "execution_count": null,
   "id": "114dc43c-9595-4688-b7a4-e026a9857725",
   "metadata": {},
   "outputs": [],
   "source": [
    "my_img = cv2.imread(\"spirited_away2.jpg\")\n",
    "plt.imshow(my_img)"
   ]
  },
  {
   "cell_type": "markdown",
   "id": "049b39ef-584c-4e0b-bc91-d574aeaded3c",
   "metadata": {},
   "source": [
    "Convert the colors:"
   ]
  },
  {
   "cell_type": "code",
   "execution_count": null,
   "id": "0d7ff8db-98fb-43d5-b0fe-664d6b15a441",
   "metadata": {},
   "outputs": [],
   "source": [
    "my_img=cv2.cvtColor(my_img,cv2.COLOR_BGR2RGB)\n",
    "plt.imshow(my_img)"
   ]
  },
  {
   "cell_type": "markdown",
   "id": "afa1e2f1-3915-4920-b4d1-9efc11c242fd",
   "metadata": {},
   "source": [
    "Check the size (shape) of the image"
   ]
  },
  {
   "cell_type": "code",
   "execution_count": null,
   "id": "2d61b377-a956-4d6b-a9ec-d6cdd43d3d0d",
   "metadata": {},
   "outputs": [],
   "source": [
    "print('Dimensions : ',my_img.shape)\n"
   ]
  },
  {
   "cell_type": "markdown",
   "id": "0cd57017-4b7a-4e4e-8e95-b2d82351c52d",
   "metadata": {},
   "source": [
    "**Downsize (optional)**\n",
    "\n",
    "If you have a particularly large image, you should use this method to downsize it.\n",
    "If your image is under a megabyte, it should be fine but if you're noticing that the shape is greater than 2000 x 2000 it will be much more computationally quick to downsize it.\n",
    "\n",
    "By default, I've set this up to downsize an image by half:\n",
    "`fx=0.5, fy=0.5`\n",
    "\n",
    "You can adjust the decimal point based on what you think will reduce the shape properly."
   ]
  },
  {
   "cell_type": "code",
   "execution_count": null,
   "id": "e1113628-f366-4de1-860d-6a96ebe1d9e5",
   "metadata": {},
   "outputs": [],
   "source": [
    "\n",
    "\n",
    "# my_img = cv2.resize(my_img, (0,0), fx=0.5, fy=0.5) \n",
    "# print('Dimensions : ',my_img.shape)\n",
    "# plt.imshow(my_img)"
   ]
  },
  {
   "cell_type": "markdown",
   "id": "d20ec335-7f41-4de1-a825-d39a301dc3c1",
   "metadata": {},
   "source": [
    "**bringing the RGB values into a data frame**"
   ]
  },
  {
   "cell_type": "code",
   "execution_count": null,
   "id": "88abe6e3-e580-40d4-a3b0-44fe9945cca7",
   "metadata": {},
   "outputs": [],
   "source": [
    "df = pd.DataFrame(my_img.reshape(-1, 3),\n",
    "                    columns=['R', 'G', 'B'])\n",
    "df"
   ]
  },
  {
   "cell_type": "markdown",
   "id": "56f3fedc-ec94-46c1-a475-3495403b398c",
   "metadata": {},
   "source": [
    "#### Creating the elbow plot\n",
    "Below, we extract the information into proper list format in order to run a test for inertia (separation between groups)\n",
    "\n",
    "Generally, where the curve makes a hard turn and becomes less distant on the y-axis is where you want to try to cluster. But it's not a perfect measure. It gives you a decent idea.\n",
    "\n",
    "That is why we are using images because your eyes will be a better judge of what the actual clusters of color might be."
   ]
  },
  {
   "cell_type": "code",
   "execution_count": null,
   "id": "933d67f5-9c33-43d3-9eb2-a7d66e273b2b",
   "metadata": {},
   "outputs": [],
   "source": [
    "#extracting a list from our data\n",
    "img_data = df[['R', 'G', 'B']].values"
   ]
  },
  {
   "cell_type": "markdown",
   "id": "5ef205de-3444-4000-a0c1-8d79b8ec9d76",
   "metadata": {},
   "source": [
    "**Running the inertia calculation**\n",
    "\n",
    "**This will take some time**. It's mapping 20 clusters here so we can visualize where we should set a cluster number."
   ]
  },
  {
   "cell_type": "code",
   "execution_count": null,
   "id": "fa90011b-a2f9-467c-81b4-04463c9dd24a",
   "metadata": {},
   "outputs": [],
   "source": [
    "inerti=[]\n",
    "for i in range(1,21):\n",
    "  km=KMeans(n_clusters=i)\n",
    "  km.fit(img_data)\n",
    "  o=km.inertia_\n",
    "  inerti.append(o)\n",
    "print(inerti)"
   ]
  },
  {
   "cell_type": "markdown",
   "id": "a43ea6d2-61e2-4ba2-87c6-e81b4900df1e",
   "metadata": {},
   "source": [
    "Now we plot the outcome on an **elbow graph**"
   ]
  },
  {
   "cell_type": "code",
   "execution_count": null,
   "id": "9af07ccd-ea43-4abb-b0d5-aade614ea2fa",
   "metadata": {},
   "outputs": [],
   "source": [
    "plt.plot(list(np.arange(1,21)),inerti)\n",
    "plt.show()"
   ]
  },
  {
   "cell_type": "markdown",
   "id": "ae062aee-1586-4baa-81d2-7ea96424b66e",
   "metadata": {},
   "source": [
    "Depending on the number we judge, and it's really a judgment call here, **set the number of clusters** and **run the algorithm.**"
   ]
  },
  {
   "cell_type": "code",
   "execution_count": null,
   "id": "c0b2f55b-e6f2-4a16-b98d-951773a38ae7",
   "metadata": {},
   "outputs": [],
   "source": [
    "from sklearn.cluster import KMeans\n",
    "#set the cluster number\n",
    "cluster_n = 5\n",
    "# Compute kmeans\n",
    "X = df.iloc[:,0:3].values\n",
    "km = KMeans(n_clusters = cluster_n, init = 'k-means++')\n",
    "y = km.fit_predict(X)"
   ]
  },
  {
   "cell_type": "markdown",
   "id": "401e384b-8c1b-4e38-891a-ae7f8e305b5b",
   "metadata": {},
   "source": [
    "Add the clusters to our dataframe"
   ]
  },
  {
   "cell_type": "code",
   "execution_count": null,
   "id": "9998eada-0fc6-4b18-a7da-39cfe5c113cb",
   "metadata": {},
   "outputs": [],
   "source": [
    "df['cluster'] = y  \n",
    "\n",
    "df"
   ]
  },
  {
   "cell_type": "markdown",
   "id": "faa919db-c1e6-4203-a6f6-2eac1086f37a",
   "metadata": {},
   "source": [
    "Now we want to isolate the **centroids** which are the mathematical centers of each cluster.\n",
    "\n",
    "We are going to hold it in a couple different formats so that we can graph this in a few different ways."
   ]
  },
  {
   "cell_type": "code",
   "execution_count": null,
   "id": "7aa699e5-2822-4535-9bb5-29343a46c866",
   "metadata": {},
   "outputs": [],
   "source": [
    "\n",
    "centroid_array=km.cluster_centers_ #need this for later\n",
    "centroids = centroid_array.tolist()\n",
    "centroids"
   ]
  },
  {
   "cell_type": "code",
   "execution_count": null,
   "id": "c9cd550c-1daf-46ec-9194-f7785643e99b",
   "metadata": {},
   "outputs": [],
   "source": [
    "centroid_array"
   ]
  },
  {
   "cell_type": "markdown",
   "id": "dbf565df-a990-47e3-8960-ff6fd8dbe0b2",
   "metadata": {},
   "source": [
    "These are groups of RGB values.\n",
    "\n",
    "Below, we convert them to decimal values (i.e. from 0 255 to 0 to 1) also, so we can graph them."
   ]
  },
  {
   "cell_type": "code",
   "execution_count": null,
   "id": "ac3d2141-14ab-49fc-a01d-0c191ce969fa",
   "metadata": {},
   "outputs": [],
   "source": [
    "for centroid in centroids:\n",
    "    (X, Y, Z) = centroid[0], centroid[1], centroid[2] \n",
    "    centroid[0] = X/255\n",
    "    centroid[1] = Y/255\n",
    "    centroid[2] = Z/255\n",
    "\n",
    "centroids"
   ]
  },
  {
   "cell_type": "markdown",
   "id": "074acd38-aa0a-497e-bfcf-f662c6d13641",
   "metadata": {},
   "source": [
    "Now we add those values to our data frame!"
   ]
  },
  {
   "cell_type": "code",
   "execution_count": null,
   "id": "914db4e9-4845-4d8a-969e-fb29b296adf9",
   "metadata": {},
   "outputs": [],
   "source": [
    "for i in range(cluster_n):\n",
    "    df.loc[df['cluster']==i, 'R_centroid'] = centroids[i][0]\n",
    "    df.loc[df['cluster']==i, 'G_centroid'] = centroids[i][1]\n",
    "    df.loc[df['cluster']==i, 'B_centroid'] = centroids[i][2]\n",
    "\n",
    "df"
   ]
  },
  {
   "cell_type": "markdown",
   "id": "91dce706-2b28-4ab0-bbc7-e8d74f24cdc0",
   "metadata": {},
   "source": [
    "**3-D Plot of the clusters**\n",
    "Here we are going to plot the different clusters in 3-D space.\n",
    "\n",
    "This is a decent way of visualizing what's happening when we are clustering.\n",
    "\n",
    "(This also takes a bit of time!)\n"
   ]
  },
  {
   "cell_type": "code",
   "execution_count": null,
   "id": "d660d91f-12ba-4aa8-be9e-7c8a5e426edc",
   "metadata": {},
   "outputs": [],
   "source": [
    "import matplotlib.pyplot as plt\n",
    "\n",
    "kplot = plt.axes(projection='3d')\n",
    "xline = np.linspace(0, 15, 1000)\n",
    "yline = np.linspace(0, 15, 1000)\n",
    "zline = np.linspace(0, 15, 1000)\n",
    "kplot.plot3D(xline, yline, zline, 'black')\n",
    "\n",
    "for i in range(5):\n",
    "    cluster = df[df.cluster==i]\n",
    "    cluster_color = cluster[[\"R_centroid\", \"G_centroid\", \"B_centroid\"]].values.tolist()\n",
    "    kplot.scatter3D(cluster.R, cluster.G, cluster.B, facecolors=cluster_color)\n",
    "\n",
    "plt.axis('on')\n",
    "plt.show()"
   ]
  },
  {
   "cell_type": "markdown",
   "id": "8eecfb72-f910-48aa-89c4-5e673240f066",
   "metadata": {},
   "source": [
    "**visualizing percentiles of each cluster**\n",
    "\n",
    "Here we get out the different labels from the clustering algorithm, and then we make a pie chart showing the dominance of the different colors groups."
   ]
  },
  {
   "cell_type": "code",
   "execution_count": null,
   "id": "ce6e231e-2e20-4ed1-84ee-ab2101d636ad",
   "metadata": {},
   "outputs": [],
   "source": [
    "# print(centroid)\n",
    "labels=km.labels_\n",
    "print(labels)\n",
    "labels=list(labels)"
   ]
  },
  {
   "cell_type": "code",
   "execution_count": null,
   "id": "8266d4c9-5756-44fb-b90e-3e3d536c42e3",
   "metadata": {},
   "outputs": [],
   "source": [
    "percent=[]\n",
    "for i in range(len(centroid_array)):\n",
    "  j=labels.count(i)\n",
    "  j=j/(len(labels))\n",
    "  percent.append(j)\n",
    "print(percent)\n",
    "plt.pie(percent,colors=np.array(centroid_array/255),labels=np.arange(len(centroid_array)))\n",
    "plt.show()\n"
   ]
  },
  {
   "cell_type": "markdown",
   "id": "f5194494-3d8e-4766-9ec7-08e963105573",
   "metadata": {},
   "source": [
    "**getting a simplified data frame** that shows the information for our clusters."
   ]
  },
  {
   "cell_type": "code",
   "execution_count": null,
   "id": "5af930e2-cfb1-406a-b453-af44abea8606",
   "metadata": {},
   "outputs": [],
   "source": [
    "each_cluster = df.groupby('cluster').first()\n",
    "each_cluster"
   ]
  },
  {
   "cell_type": "markdown",
   "id": "f5e2d2c2-7874-4386-949e-0e3b237f28f6",
   "metadata": {},
   "source": [
    "Generating an output so we can see the colors' HEX values and **see the pallette**"
   ]
  },
  {
   "cell_type": "code",
   "execution_count": null,
   "id": "8c2df524-6599-49b2-b5a3-163f8df971d0",
   "metadata": {},
   "outputs": [],
   "source": [
    "#we the color values\n",
    "palette_list = each_cluster[[\"R_centroid\", \"G_centroid\", \"B_centroid\"]].values.tolist()\n",
    "palette_list"
   ]
  },
  {
   "cell_type": "code",
   "execution_count": null,
   "id": "ded4678a-baad-4982-9e3f-aeefe92aa379",
   "metadata": {},
   "outputs": [],
   "source": [
    "#display the colorsa and hex values\n",
    "from matplotlib.colors import to_hex\n",
    "for color in palette_list:\n",
    "    # color_array = [x/255 for x in color[0][0]]\n",
    "    print(to_hex(color))\n",
    "    plt.figure(figsize=(1, 1))\n",
    "    plt.axis('off')\n",
    "    plt.imshow([[color]]);\n",
    "    plt.show();"
   ]
  },
  {
   "cell_type": "code",
   "execution_count": null,
   "id": "254e4556-7206-4479-b43e-eeb88163d531",
   "metadata": {},
   "outputs": [],
   "source": [
    "#display the image and colors\n",
    "palette2 = np.array(palette_list)[np.newaxis, :, :]\n",
    "\n",
    "plt.imshow(my_img);\n",
    "plt.axis('off')\n",
    "plt.show()\n",
    "plt.imshow(palette2)\n",
    "plt.axis('off')\n",
    "plt.show()\n"
   ]
  },
  {
   "cell_type": "markdown",
   "id": "496590de-cd4a-4bc2-aaa0-44f6b3548614",
   "metadata": {},
   "source": [
    "The end!"
   ]
  },
  {
   "cell_type": "code",
   "execution_count": null,
   "id": "d248e7bf-02f0-429d-9c71-4933fc4eceb4",
   "metadata": {},
   "outputs": [],
   "source": []
  }
 ],
 "metadata": {
  "kernelspec": {
   "display_name": "Python 3 (ipykernel)",
   "language": "python",
   "name": "python3"
  },
  "language_info": {
   "codemirror_mode": {
    "name": "ipython",
    "version": 3
   },
   "file_extension": ".py",
   "mimetype": "text/x-python",
   "name": "python",
   "nbconvert_exporter": "python",
   "pygments_lexer": "ipython3",
   "version": "3.11.6"
  }
 },
 "nbformat": 4,
 "nbformat_minor": 5
}
