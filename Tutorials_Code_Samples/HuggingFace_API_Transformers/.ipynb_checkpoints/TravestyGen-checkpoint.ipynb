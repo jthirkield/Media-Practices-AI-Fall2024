{
 "cells": [
  {
   "cell_type": "code",
   "execution_count": 1,
   "metadata": {},
   "outputs": [],
   "source": [
    "def permutations(elements):\n",
    "    if len(elements)==0:\n",
    "        yield elements\n",
    "    else:\n",
    "        for result in permutations(elements[1:]):\n",
    "            for i in range(len(elements)):\n",
    "                yield result[:i] + elements[0:1]+result"
   ]
  },
  {
   "cell_type": "code",
   "execution_count": 6,
   "metadata": {},
   "outputs": [
    {
     "name": "stdout",
     "output_type": "stream",
     "text": [
      "['cantel', 'acantel', 'ancantel', 'antcantel', 'antecantel', 'antelcantel', 'cnantel', 'ncnantel', 'nacnantel', 'nancnantel', 'nantcnantel', 'nantecnantel', 'cntantel', 'ncntantel', 'ntcntantel', 'ntacntantel', 'ntancntantel', 'ntantcntantel', 'cnteantel', 'ncnteantel', 'ntcnteantel', 'ntecnteantel', 'nteacnteantel', 'nteancnteantel', 'cntelantel', 'ncntelantel', 'ntcntelantel', 'ntecntelantel', 'ntelcntelantel', 'ntelacntelantel', 'catntel', 'acatntel', 'atcatntel', 'atncatntel', 'atntcatntel', 'atntecatntel', 'ctatntel', 'tctatntel', 'tactatntel', 'tatctatntel', 'tatnctatntel', 'tatntctatntel', 'ctnatntel', 'tctnatntel', 'tnctnatntel', 'tnactnatntel', 'tnatctnatntel', 'tnatnctnatntel', 'ctntatntel', 'tctntatntel', 'tnctntatntel', 'tntctntatntel', 'tntactntatntel', 'tntatctntatntel', 'ctnteatntel', 'tctnteatntel', 'tnctnteatntel', 'tntctnteatntel', 'tntectnteatntel', 'tnteactnteatntel', 'catentel', 'acatentel', 'atcatentel', 'atecatentel', 'atencatentel', 'atentcatentel', 'ctatentel', 'tctatentel', 'tactatentel', 'tatctatentel', 'tatectatentel', 'tatenctatentel', 'cteatentel', 'tcteatentel', 'tecteatentel', 'teacteatentel', 'teatcteatentel', 'teatecteatentel', 'ctenatentel', 'tctenatentel', 'tectenatentel', 'tenctenatentel', 'tenactenatentel', 'tenatctenatentel', 'ctentatentel', 'tctentatentel', 'tectentatentel', 'tenctentatentel', 'tentctentatentel', 'tentactentatentel', 'catelntel', 'acatelntel', 'atcatelntel', 'atecatelntel', 'atelcatelntel', 'atelncatelntel', 'ctatelntel', 'tctatelntel', 'tactatelntel', 'tatctatelntel', 'tatectatelntel', 'tatelctatelntel', 'cteatelntel', 'tcteatelntel', 'tecteatelntel', 'teacteatelntel', 'teatcteatelntel', 'teatecteatelntel', 'ctelatelntel', 'tctelatelntel', 'tectelatelntel', 'telctelatelntel', 'telactelatelntel', 'telatctelatelntel', 'ctelnatelntel', 'tctelnatelntel', 'tectelnatelntel', 'telctelnatelntel', 'telnctelnatelntel', 'telnactelnatelntel', 'canetel', 'acanetel', 'ancanetel', 'anecanetel', 'anetcanetel', 'anetecanetel', 'cnanetel', 'ncnanetel', 'nacnanetel', 'nancnanetel', 'nanecnanetel', 'nanetcnanetel', 'cneanetel', 'ncneanetel', 'necneanetel', 'neacneanetel', 'neancneanetel', 'neanecneanetel', 'cnetanetel', 'ncnetanetel', 'necnetanetel', 'netcnetanetel', 'netacnetanetel', 'netancnetanetel', 'cneteanetel', 'ncneteanetel', 'necneteanetel', 'netcneteanetel', 'netecneteanetel', 'neteacneteanetel', 'caenetel', 'acaenetel', 'aecaenetel', 'aencaenetel', 'aenecaenetel', 'aenetcaenetel', 'ceaenetel', 'eceaenetel', 'eaceaenetel', 'eaeceaenetel', 'eaenceaenetel', 'eaeneceaenetel', 'cenaenetel', 'ecenaenetel', 'encenaenetel', 'enacenaenetel', 'enaecenaenetel', 'enaencenaenetel', 'ceneaenetel', 'eceneaenetel', 'enceneaenetel', 'eneceneaenetel', 'eneaceneaenetel', 'eneaeceneaenetel', 'cenetaenetel', 'ecenetaenetel', 'encenetaenetel', 'enecenetaenetel', 'enetcenetaenetel', 'enetacenetaenetel', 'caetnetel', 'acaetnetel', 'aecaetnetel', 'aetcaetnetel', 'aetncaetnetel', 'aetnecaetnetel', 'ceaetnetel', 'eceaetnetel', 'eaceaetnetel', 'eaeceaetnetel', 'eaetceaetnetel', 'eaetnceaetnetel', 'cetaetnetel', 'ecetaetnetel', 'etcetaetnetel', 'etacetaetnetel', 'etaecetaetnetel', 'etaetcetaetnetel', 'cetnaetnetel', 'ecetnaetnetel', 'etcetnaetnetel', 'etncetnaetnetel', 'etnacetnaetnetel', 'etnaecetnaetnetel', 'cetneaetnetel', 'ecetneaetnetel', 'etcetneaetnetel', 'etncetneaetnetel', 'etnecetneaetnetel', 'etneacetneaetnetel', 'caetenetel', 'acaetenetel', 'aecaetenetel', 'aetcaetenetel', 'aetecaetenetel', 'aetencaetenetel', 'ceaetenetel', 'eceaetenetel', 'eaceaetenetel', 'eaeceaetenetel', 'eaetceaetenetel', 'eaeteceaetenetel', 'cetaetenetel', 'ecetaetenetel', 'etcetaetenetel', 'etacetaetenetel', 'etaecetaetenetel', 'etaetcetaetenetel', 'ceteaetenetel', 'eceteaetenetel', 'etceteaetenetel', 'eteceteaetenetel', 'eteaceteaetenetel', 'eteaeceteaetenetel', 'cetenaetenetel', 'ecetenaetenetel', 'etcetenaetenetel', 'etecetenaetenetel', 'etencetenaetenetel', 'etenacetenaetenetel', 'caneltel', 'acaneltel', 'ancaneltel', 'anecaneltel', 'anelcaneltel', 'aneltcaneltel', 'cnaneltel', 'ncnaneltel', 'nacnaneltel', 'nancnaneltel', 'nanecnaneltel', 'nanelcnaneltel', 'cneaneltel', 'ncneaneltel', 'necneaneltel', 'neacneaneltel', 'neancneaneltel', 'neanecneaneltel', 'cnelaneltel', 'ncnelaneltel', 'necnelaneltel', 'nelcnelaneltel', 'nelacnelaneltel', 'nelancnelaneltel', 'cneltaneltel', 'ncneltaneltel', 'necneltaneltel', 'nelcneltaneltel', 'neltcneltaneltel', 'neltacneltaneltel', 'caeneltel', 'acaeneltel', 'aecaeneltel', 'aencaeneltel', 'aenecaeneltel', 'aenelcaeneltel', 'ceaeneltel', 'eceaeneltel', 'eaceaeneltel', 'eaeceaeneltel', 'eaenceaeneltel', 'eaeneceaeneltel', 'cenaeneltel', 'ecenaeneltel', 'encenaeneltel', 'enacenaeneltel', 'enaecenaeneltel', 'enaencenaeneltel', 'ceneaeneltel', 'eceneaeneltel', 'enceneaeneltel', 'eneceneaeneltel', 'eneaceneaeneltel', 'eneaeceneaeneltel', 'cenelaeneltel', 'ecenelaeneltel', 'encenelaeneltel', 'enecenelaeneltel', 'enelcenelaeneltel', 'enelacenelaeneltel', 'caelneltel', 'acaelneltel', 'aecaelneltel', 'aelcaelneltel', 'aelncaelneltel', 'aelnecaelneltel', 'ceaelneltel', 'eceaelneltel', 'eaceaelneltel', 'eaeceaelneltel', 'eaelceaelneltel', 'eaelnceaelneltel', 'celaelneltel', 'ecelaelneltel', 'elcelaelneltel', 'elacelaelneltel', 'elaecelaelneltel', 'elaelcelaelneltel', 'celnaelneltel', 'ecelnaelneltel', 'elcelnaelneltel', 'elncelnaelneltel', 'elnacelnaelneltel', 'elnaecelnaelneltel', 'celneaelneltel', 'ecelneaelneltel', 'elcelneaelneltel', 'elncelneaelneltel', 'elnecelneaelneltel', 'elneacelneaelneltel', 'caeltneltel', 'acaeltneltel', 'aecaeltneltel', 'aelcaeltneltel', 'aeltcaeltneltel', 'aeltncaeltneltel', 'ceaeltneltel', 'eceaeltneltel', 'eaceaeltneltel', 'eaeceaeltneltel', 'eaelceaeltneltel', 'eaeltceaeltneltel', 'celaeltneltel', 'ecelaeltneltel', 'elcelaeltneltel', 'elacelaeltneltel', 'elaecelaeltneltel', 'elaelcelaeltneltel', 'celtaeltneltel', 'eceltaeltneltel', 'elceltaeltneltel', 'eltceltaeltneltel', 'eltaceltaeltneltel', 'eltaeceltaeltneltel', 'celtnaeltneltel', 'eceltnaeltneltel', 'elceltnaeltneltel', 'eltceltnaeltneltel', 'eltnceltnaeltneltel', 'eltnaceltnaeltneltel', 'cantlel', 'acantlel', 'ancantlel', 'antcantlel', 'antlcantlel', 'antlecantlel', 'cnantlel', 'ncnantlel', 'nacnantlel', 'nancnantlel', 'nantcnantlel', 'nantlcnantlel', 'cntantlel', 'ncntantlel', 'ntcntantlel', 'ntacntantlel', 'ntancntantlel', 'ntantcntantlel', 'cntlantlel', 'ncntlantlel', 'ntcntlantlel', 'ntlcntlantlel', 'ntlacntlantlel', 'ntlancntlantlel', 'cntleantlel', 'ncntleantlel', 'ntcntleantlel', 'ntlcntleantlel', 'ntlecntleantlel', 'ntleacntleantlel', 'catntlel', 'acatntlel', 'atcatntlel', 'atncatntlel', 'atntcatntlel', 'atntlcatntlel', 'ctatntlel', 'tctatntlel', 'tactatntlel', 'tatctatntlel', 'tatnctatntlel', 'tatntctatntlel', 'ctnatntlel', 'tctnatntlel', 'tnctnatntlel', 'tnactnatntlel', 'tnatctnatntlel', 'tnatnctnatntlel', 'ctntatntlel', 'tctntatntlel', 'tnctntatntlel', 'tntctntatntlel', 'tntactntatntlel', 'tntatctntatntlel', 'ctntlatntlel', 'tctntlatntlel', 'tnctntlatntlel', 'tntctntlatntlel', 'tntlctntlatntlel', 'tntlactntlatntlel', 'catlntlel', 'acatlntlel', 'atcatlntlel', 'atlcatlntlel', 'atlncatlntlel', 'atlntcatlntlel', 'ctatlntlel', 'tctatlntlel', 'tactatlntlel', 'tatctatlntlel', 'tatlctatlntlel', 'tatlnctatlntlel', 'ctlatlntlel', 'tctlatlntlel', 'tlctlatlntlel', 'tlactlatlntlel', 'tlatctlatlntlel', 'tlatlctlatlntlel', 'ctlnatlntlel', 'tctlnatlntlel', 'tlctlnatlntlel', 'tlnctlnatlntlel', 'tlnactlnatlntlel', 'tlnatctlnatlntlel', 'ctlntatlntlel', 'tctlntatlntlel', 'tlctlntatlntlel', 'tlnctlntatlntlel', 'tlntctlntatlntlel', 'tlntactlntatlntlel', 'catlentlel', 'acatlentlel', 'atcatlentlel', 'atlcatlentlel', 'atlecatlentlel', 'atlencatlentlel', 'ctatlentlel', 'tctatlentlel', 'tactatlentlel', 'tatctatlentlel', 'tatlctatlentlel', 'tatlectatlentlel', 'ctlatlentlel', 'tctlatlentlel', 'tlctlatlentlel', 'tlactlatlentlel', 'tlatctlatlentlel', 'tlatlctlatlentlel', 'ctleatlentlel', 'tctleatlentlel', 'tlctleatlentlel', 'tlectleatlentlel', 'tleactleatlentlel', 'tleatctleatlentlel', 'ctlenatlentlel', 'tctlenatlentlel', 'tlctlenatlentlel', 'tlectlenatlentlel', 'tlenctlenatlentlel', 'tlenactlenatlentlel', 'canltlel', 'acanltlel', 'ancanltlel', 'anlcanltlel', 'anltcanltlel', 'anltlcanltlel', 'cnanltlel', 'ncnanltlel', 'nacnanltlel', 'nancnanltlel', 'nanlcnanltlel', 'nanltcnanltlel', 'cnlanltlel', 'ncnlanltlel', 'nlcnlanltlel', 'nlacnlanltlel', 'nlancnlanltlel', 'nlanlcnlanltlel', 'cnltanltlel', 'ncnltanltlel', 'nlcnltanltlel', 'nltcnltanltlel', 'nltacnltanltlel', 'nltancnltanltlel', 'cnltlanltlel', 'ncnltlanltlel', 'nlcnltlanltlel', 'nltcnltlanltlel', 'nltlcnltlanltlel', 'nltlacnltlanltlel', 'calnltlel', 'acalnltlel', 'alcalnltlel', 'alncalnltlel', 'alnlcalnltlel', 'alnltcalnltlel', 'clalnltlel', 'lclalnltlel', 'laclalnltlel', 'lalclalnltlel', 'lalnclalnltlel', 'lalnlclalnltlel', 'clnalnltlel', 'lclnalnltlel', 'lnclnalnltlel', 'lnaclnalnltlel', 'lnalclnalnltlel', 'lnalnclnalnltlel', 'clnlalnltlel', 'lclnlalnltlel', 'lnclnlalnltlel', 'lnlclnlalnltlel', 'lnlaclnlalnltlel', 'lnlalclnlalnltlel', 'clnltalnltlel', 'lclnltalnltlel', 'lnclnltalnltlel', 'lnlclnltalnltlel', 'lnltclnltalnltlel', 'lnltaclnltalnltlel', 'caltnltlel', 'acaltnltlel', 'alcaltnltlel', 'altcaltnltlel', 'altncaltnltlel', 'altnlcaltnltlel', 'claltnltlel', 'lclaltnltlel', 'laclaltnltlel', 'lalclaltnltlel', 'laltclaltnltlel', 'laltnclaltnltlel', 'cltaltnltlel', 'lcltaltnltlel', 'ltcltaltnltlel', 'ltacltaltnltlel', 'ltalcltaltnltlel', 'ltaltcltaltnltlel', 'cltnaltnltlel', 'lcltnaltnltlel', 'ltcltnaltnltlel', 'ltncltnaltnltlel', 'ltnacltnaltnltlel', 'ltnalcltnaltnltlel', 'cltnlaltnltlel', 'lcltnlaltnltlel', 'ltcltnlaltnltlel', 'ltncltnlaltnltlel', 'ltnlcltnlaltnltlel', 'ltnlacltnlaltnltlel', 'caltlnltlel', 'acaltlnltlel', 'alcaltlnltlel', 'altcaltlnltlel', 'altlcaltlnltlel', 'altlncaltlnltlel', 'claltlnltlel', 'lclaltlnltlel', 'laclaltlnltlel', 'lalclaltlnltlel', 'laltclaltlnltlel', 'laltlclaltlnltlel', 'cltaltlnltlel', 'lcltaltlnltlel', 'ltcltaltlnltlel', 'ltacltaltlnltlel', 'ltalcltaltlnltlel', 'ltaltcltaltlnltlel', 'cltlaltlnltlel', 'lcltlaltlnltlel', 'ltcltlaltlnltlel', 'ltlcltlaltlnltlel', 'ltlacltlaltlnltlel', 'ltlalcltlaltlnltlel', 'cltlnaltlnltlel', 'lcltlnaltlnltlel', 'ltcltlnaltlnltlel', 'ltlcltlnaltlnltlel', 'ltlncltlnaltlnltlel', 'ltlnacltlnaltlnltlel', 'canletlel', 'acanletlel', 'ancanletlel', 'anlcanletlel', 'anlecanletlel', 'anletcanletlel', 'cnanletlel', 'ncnanletlel', 'nacnanletlel', 'nancnanletlel', 'nanlcnanletlel', 'nanlecnanletlel', 'cnlanletlel', 'ncnlanletlel', 'nlcnlanletlel', 'nlacnlanletlel', 'nlancnlanletlel', 'nlanlcnlanletlel', 'cnleanletlel', 'ncnleanletlel', 'nlcnleanletlel', 'nlecnleanletlel', 'nleacnleanletlel', 'nleancnleanletlel', 'cnletanletlel', 'ncnletanletlel', 'nlcnletanletlel', 'nlecnletanletlel', 'nletcnletanletlel', 'nletacnletanletlel', 'calnletlel', 'acalnletlel', 'alcalnletlel', 'alncalnletlel', 'alnlcalnletlel', 'alnlecalnletlel', 'clalnletlel', 'lclalnletlel', 'laclalnletlel', 'lalclalnletlel', 'lalnclalnletlel', 'lalnlclalnletlel', 'clnalnletlel', 'lclnalnletlel', 'lnclnalnletlel', 'lnaclnalnletlel', 'lnalclnalnletlel', 'lnalnclnalnletlel', 'clnlalnletlel', 'lclnlalnletlel', 'lnclnlalnletlel', 'lnlclnlalnletlel', 'lnlaclnlalnletlel', 'lnlalclnlalnletlel', 'clnlealnletlel', 'lclnlealnletlel', 'lnclnlealnletlel', 'lnlclnlealnletlel', 'lnleclnlealnletlel', 'lnleaclnlealnletlel', 'calenletlel', 'acalenletlel', 'alcalenletlel', 'alecalenletlel', 'alencalenletlel', 'alenlcalenletlel', 'clalenletlel', 'lclalenletlel', 'laclalenletlel', 'lalclalenletlel', 'laleclalenletlel', 'lalenclalenletlel', 'clealenletlel', 'lclealenletlel', 'leclealenletlel', 'leaclealenletlel', 'lealclealenletlel', 'lealeclealenletlel', 'clenalenletlel', 'lclenalenletlel', 'leclenalenletlel', 'lenclenalenletlel', 'lenaclenalenletlel', 'lenalclenalenletlel', 'clenlalenletlel', 'lclenlalenletlel', 'leclenlalenletlel', 'lenclenlalenletlel', 'lenlclenlalenletlel', 'lenlaclenlalenletlel', 'caletnletlel', 'acaletnletlel', 'alcaletnletlel', 'alecaletnletlel', 'aletcaletnletlel', 'aletncaletnletlel', 'claletnletlel', 'lclaletnletlel', 'laclaletnletlel', 'lalclaletnletlel', 'laleclaletnletlel', 'laletclaletnletlel', 'clealetnletlel', 'lclealetnletlel', 'leclealetnletlel', 'leaclealetnletlel', 'lealclealetnletlel', 'lealeclealetnletlel', 'cletaletnletlel', 'lcletaletnletlel', 'lecletaletnletlel', 'letcletaletnletlel', 'letacletaletnletlel', 'letalcletaletnletlel', 'cletnaletnletlel', 'lcletnaletnletlel', 'lecletnaletnletlel', 'letcletnaletnletlel', 'letncletnaletnletlel', 'letnacletnaletnletlel']\n"
     ]
    }
   ],
   "source": [
    "print(list(permutations(\"cantel\")))"
   ]
  },
  {
   "cell_type": "code",
   "execution_count": null,
   "metadata": {},
   "outputs": [],
   "source": []
  },
  {
   "cell_type": "code",
   "execution_count": null,
   "metadata": {},
   "outputs": [],
   "source": []
  }
 ],
 "metadata": {
  "kernelspec": {
   "display_name": "Python 3",
   "language": "python",
   "name": "python3"
  },
  "language_info": {
   "codemirror_mode": {
    "name": "ipython",
    "version": 3
   },
   "file_extension": ".py",
   "mimetype": "text/x-python",
   "name": "python",
   "nbconvert_exporter": "python",
   "pygments_lexer": "ipython3",
   "version": "3.8.6"
  }
 },
 "nbformat": 4,
 "nbformat_minor": 4
}
